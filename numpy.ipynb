{
 "cells": [
  {
   "cell_type": "markdown",
   "id": "de5840eb-efa6-41db-bdec-31df36cbf30f",
   "metadata": {},
   "source": [
    "numpy\n"
   ]
  },
  {
   "cell_type": "code",
   "execution_count": 3,
   "id": "f6915718-7e6f-4ece-86f0-2fdb47f0e8cc",
   "metadata": {},
   "outputs": [
    {
     "data": {
      "text/plain": [
       "'2.1.3'"
      ]
     },
     "execution_count": 3,
     "metadata": {},
     "output_type": "execute_result"
    }
   ],
   "source": [
    "import numpy as np\n",
    "np.__version__"
   ]
  },
  {
   "cell_type": "code",
   "execution_count": 2,
   "id": "a3099281-c59a-4aa2-930e-fec4b8b1abca",
   "metadata": {},
   "outputs": [
    {
     "data": {
      "text/plain": [
       "[0, 1, 2, 3, 4, 5]"
      ]
     },
     "execution_count": 2,
     "metadata": {},
     "output_type": "execute_result"
    }
   ],
   "source": [
    "my_list = [0,1,2,3,4,5]\n",
    "my_list"
   ]
  },
  {
   "cell_type": "markdown",
   "id": "9f7126bf-6d8e-4e6c-ab81-0d3cb46554ae",
   "metadata": {},
   "source": [
    "converting list to array\n"
   ]
  },
  {
   "cell_type": "code",
   "execution_count": 3,
   "id": "e3b85d30-4016-4751-b85c-f6311265b70d",
   "metadata": {},
   "outputs": [
    {
     "data": {
      "text/plain": [
       "array([0, 1, 2, 3, 4, 5])"
      ]
     },
     "execution_count": 3,
     "metadata": {},
     "output_type": "execute_result"
    }
   ],
   "source": [
    "arr = np.array(my_list)\n",
    "arr"
   ]
  },
  {
   "cell_type": "markdown",
   "id": "44e88e72-86e9-4f8c-9d33-a3347c0f143b",
   "metadata": {},
   "source": [
    "arange()"
   ]
  },
  {
   "cell_type": "code",
   "execution_count": 4,
   "id": "7f2d9cb7-2c7f-4e50-a4d0-d0c3f332304a",
   "metadata": {},
   "outputs": [
    {
     "data": {
      "text/plain": [
       "array([ 0,  1,  2,  3,  4,  5,  6,  7,  8,  9, 10, 11, 12, 13, 14])"
      ]
     },
     "execution_count": 4,
     "metadata": {},
     "output_type": "execute_result"
    }
   ],
   "source": [
    " np.arange(15)"
   ]
  },
  {
   "cell_type": "code",
   "execution_count": 5,
   "id": "49fc8bbc-f669-48d6-858d-85d74f771aed",
   "metadata": {},
   "outputs": [
    {
     "data": {
      "text/plain": [
       "array([0., 1., 2.])"
      ]
     },
     "execution_count": 5,
     "metadata": {},
     "output_type": "execute_result"
    }
   ],
   "source": [
    "np.arange(3.0)"
   ]
  },
  {
   "cell_type": "code",
   "execution_count": 6,
   "id": "af891cb6-e04b-47a8-adf5-09936c26e6ed",
   "metadata": {},
   "outputs": [
    {
     "data": {
      "text/plain": [
       "array([10, 11, 12, 13, 14, 15, 16, 17, 18, 19])"
      ]
     },
     "execution_count": 6,
     "metadata": {},
     "output_type": "execute_result"
    }
   ],
   "source": [
    "np.arange(10,20)"
   ]
  },
  {
   "cell_type": "code",
   "execution_count": 7,
   "id": "c9c999ae-5f86-4d76-964e-a4b20dbc401d",
   "metadata": {},
   "outputs": [
    {
     "data": {
      "text/plain": [
       "array([-10,  -9,  -8,  -7,  -6,  -5,  -4,  -3,  -2,  -1,   0,   1,   2,\n",
       "         3,   4,   5,   6,   7,   8,   9])"
      ]
     },
     "execution_count": 7,
     "metadata": {},
     "output_type": "execute_result"
    }
   ],
   "source": [
    "ar=np.arange(-10,10)\n",
    "ar"
   ]
  },
  {
   "cell_type": "code",
   "execution_count": 8,
   "id": "359d7dbf-913a-44de-8018-501efc7d6ee3",
   "metadata": {},
   "outputs": [
    {
     "data": {
      "text/plain": [
       "array([ 1,  4,  7, 10, 13, 16, 19])"
      ]
     },
     "execution_count": 8,
     "metadata": {},
     "output_type": "execute_result"
    }
   ],
   "source": [
    "np.arange(1,20,3)"
   ]
  },
  {
   "cell_type": "markdown",
   "id": "9c21d0b2-9bf6-45a1-9166-7182f5bfc013",
   "metadata": {},
   "source": [
    "zeros()"
   ]
  },
  {
   "cell_type": "code",
   "execution_count": 10,
   "id": "ed35221f-19ff-462f-8aaf-76dacf6038ad",
   "metadata": {},
   "outputs": [
    {
     "data": {
      "text/plain": [
       "array([0, 0, 0, 0, 0])"
      ]
     },
     "execution_count": 10,
     "metadata": {},
     "output_type": "execute_result"
    }
   ],
   "source": [
    "np.zeros(5,int)\n"
   ]
  },
  {
   "cell_type": "code",
   "execution_count": 16,
   "id": "e7e079ed-af05-4d0e-9958-604408ce9672",
   "metadata": {},
   "outputs": [
    {
     "name": "stdout",
     "output_type": "stream",
     "text": [
      "[[0 0 0 0 0 0 0 0 0 0]\n",
      " [0 0 0 0 0 0 0 0 0 0]]\n"
     ]
    },
    {
     "data": {
      "text/plain": [
       "numpy.ndarray"
      ]
     },
     "execution_count": 16,
     "metadata": {},
     "output_type": "execute_result"
    }
   ],
   "source": [
    "zr=np.zeros((2,10),int)\n",
    "print(zr)\n",
    "type(zr)"
   ]
  },
  {
   "cell_type": "code",
   "execution_count": 14,
   "id": "9cb7f155-2e3c-434c-8f8e-9c01ee8d10e8",
   "metadata": {},
   "outputs": [
    {
     "data": {
      "text/plain": [
       "array([[0, 0, 0, 0, 0, 0, 0, 0, 0, 0],\n",
       "       [0, 0, 0, 0, 0, 0, 0, 0, 0, 0],\n",
       "       [0, 0, 0, 0, 0, 0, 0, 0, 0, 0],\n",
       "       [0, 0, 0, 0, 0, 0, 0, 0, 0, 0],\n",
       "       [0, 0, 0, 0, 0, 0, 0, 0, 0, 0],\n",
       "       [0, 0, 0, 0, 0, 0, 0, 0, 0, 0],\n",
       "       [0, 0, 0, 0, 0, 0, 0, 0, 0, 0],\n",
       "       [0, 0, 0, 0, 0, 0, 0, 0, 0, 0]])"
      ]
     },
     "execution_count": 14,
     "metadata": {},
     "output_type": "execute_result"
    }
   ],
   "source": [
    "np.zeros((8,10),int)"
   ]
  },
  {
   "cell_type": "markdown",
   "id": "d2f15add-9d4d-4b48-830c-2d247fc9e190",
   "metadata": {},
   "source": [
    "ones()"
   ]
  },
  {
   "cell_type": "code",
   "execution_count": 22,
   "id": "9cd67c90-52bb-460a-a0b1-ac956086231e",
   "metadata": {},
   "outputs": [
    {
     "name": "stdout",
     "output_type": "stream",
     "text": [
      "[1. 1.]\n"
     ]
    }
   ],
   "source": [
    "on=ones(2)\n",
    "print(on)"
   ]
  },
  {
   "cell_type": "code",
   "execution_count": 23,
   "id": "ba2e7cfa-8e6c-4b0e-bf5d-a060c3146df7",
   "metadata": {},
   "outputs": [
    {
     "data": {
      "text/plain": [
       "array([1., 1., 1., 1., 1.])"
      ]
     },
     "execution_count": 23,
     "metadata": {},
     "output_type": "execute_result"
    }
   ],
   "source": [
    "ones(5)"
   ]
  },
  {
   "cell_type": "code",
   "execution_count": 4,
   "id": "f67fa40b-5120-4612-afb9-4d6397e6cd24",
   "metadata": {},
   "outputs": [
    {
     "ename": "NameError",
     "evalue": "name 'rand' is not defined",
     "output_type": "error",
     "traceback": [
      "\u001b[1;31m---------------------------------------------------------------------------\u001b[0m",
      "\u001b[1;31mNameError\u001b[0m                                 Traceback (most recent call last)",
      "Cell \u001b[1;32mIn[4], line 1\u001b[0m\n\u001b[1;32m----> 1\u001b[0m rand(\u001b[38;5;241m3\u001b[39m,\u001b[38;5;241m2\u001b[39m)\n\u001b[0;32m      2\u001b[0m random\u001b[38;5;241m.\u001b[39mrand(\u001b[38;5;241m5\u001b[39m)\n",
      "\u001b[1;31mNameError\u001b[0m: name 'rand' is not defined"
     ]
    }
   ],
   "source": [
    "rand(3,2)\n",
    "random.rand(5) "
   ]
  },
  {
   "cell_type": "code",
   "execution_count": 28,
   "id": "31e78582-02d5-4b36-84b5-b145b58f1699",
   "metadata": {},
   "outputs": [
    {
     "data": {
      "text/plain": [
       "array([0.63657989, 0.23096409, 0.23523941, 0.71678777, 0.37406139])"
      ]
     },
     "execution_count": 28,
     "metadata": {},
     "output_type": "execute_result"
    }
   ],
   "source": [
    "np.random.rand(5)"
   ]
  },
  {
   "cell_type": "code",
   "execution_count": 34,
   "id": "e96d573d-e2f7-4c74-b9cd-fc61c73a7ec3",
   "metadata": {},
   "outputs": [
    {
     "data": {
      "text/plain": [
       "array([[0.87827307, 0.81457407, 0.19933667, 0.58641131, 0.83167471],\n",
       "       [0.16254928, 0.03511103, 0.86853969, 0.20616712, 0.43548556],\n",
       "       [0.7799418 , 0.30436281, 0.23986636, 0.09379922, 0.3788668 ]])"
      ]
     },
     "execution_count": 34,
     "metadata": {},
     "output_type": "execute_result"
    }
   ],
   "source": [
    "np.random.rand(3,5)"
   ]
  },
  {
   "cell_type": "code",
   "execution_count": 38,
   "id": "68afc46c-dc57-4f84-aaf1-1bddd3ae529d",
   "metadata": {},
   "outputs": [
    {
     "data": {
      "text/plain": [
       "array([4, 2], dtype=int32)"
      ]
     },
     "execution_count": 38,
     "metadata": {},
     "output_type": "execute_result"
    }
   ],
   "source": [
    "np.random.randint(2,6,2)"
   ]
  },
  {
   "cell_type": "code",
   "execution_count": 3,
   "id": "db9ec6a6-6e5b-4bcc-8245-6356c1d8ec75",
   "metadata": {},
   "outputs": [
    {
     "data": {
      "text/plain": [
       "7"
      ]
     },
     "execution_count": 3,
     "metadata": {},
     "output_type": "execute_result"
    }
   ],
   "source": [
    "np.random.randint(5,9)"
   ]
  },
  {
   "cell_type": "code",
   "execution_count": 4,
   "id": "dc99e8bb-2be2-4e0d-bca7-e01b0972995a",
   "metadata": {},
   "outputs": [
    {
     "data": {
      "text/plain": [
       "array([[32, 29, 24, 38, 28, 15, 22, 16, 32, 11],\n",
       "       [10, 37, 33, 23, 37, 16, 11, 31, 20, 24],\n",
       "       [27, 38, 38, 18, 12, 37, 10, 37, 11, 17],\n",
       "       [23, 20, 16, 38, 14, 25, 39, 24, 19, 33],\n",
       "       [19, 12, 20, 34, 23, 22, 24, 14, 30, 26],\n",
       "       [26, 23, 26, 16, 32, 37, 33, 13, 24, 31],\n",
       "       [19, 20, 27, 24, 22, 18, 34, 13, 31, 26],\n",
       "       [38, 24, 22, 10, 19, 29, 32, 26, 18, 10],\n",
       "       [32, 13, 20, 14, 27, 26, 35, 14, 31, 29],\n",
       "       [28, 36, 28, 38, 30, 32, 29, 22, 37, 26]], dtype=int32)"
      ]
     },
     "execution_count": 4,
     "metadata": {},
     "output_type": "execute_result"
    }
   ],
   "source": [
    "np.random.randint(10,40,(10,10))   #generates the element b/w 10 to 40 10*10 matrix"
   ]
  },
  {
   "cell_type": "markdown",
   "id": "70298c44-eaf5-4879-9444-093579939fd4",
   "metadata": {},
   "source": [
    "reshape()\n"
   ]
  },
  {
   "cell_type": "code",
   "execution_count": 5,
   "id": "57c38eb8-364e-4c09-a978-28f0fa99ea09",
   "metadata": {},
   "outputs": [
    {
     "data": {
      "text/plain": [
       "array([ 1,  2,  3,  4,  5,  6,  7,  8,  9, 10, 11, 12])"
      ]
     },
     "execution_count": 5,
     "metadata": {},
     "output_type": "execute_result"
    }
   ],
   "source": [
    "np.arange(1,13)"
   ]
  },
  {
   "cell_type": "code",
   "execution_count": 5,
   "id": "c1cb032a-64d7-4f62-8598-f3c4c6c3346f",
   "metadata": {},
   "outputs": [
    {
     "data": {
      "text/plain": [
       "array([[ 1,  2,  3,  4],\n",
       "       [ 5,  6,  7,  8],\n",
       "       [ 9, 10, 11, 12]])"
      ]
     },
     "execution_count": 5,
     "metadata": {},
     "output_type": "execute_result"
    }
   ],
   "source": [
    "np.arange(1,13).reshape(3,4)"
   ]
  },
  {
   "cell_type": "code",
   "execution_count": 8,
   "id": "103eed6d-e21b-41b5-9f1b-5197fe0ef5c3",
   "metadata": {},
   "outputs": [
    {
     "data": {
      "text/plain": [
       "array([[ 1,  2,  3,  4],\n",
       "       [ 5,  6,  7,  8],\n",
       "       [ 9, 10, 11, 12]])"
      ]
     },
     "execution_count": 8,
     "metadata": {},
     "output_type": "execute_result"
    }
   ],
   "source": [
    "np.arange(1,13).reshape(3,4)"
   ]
  },
  {
   "cell_type": "code",
   "execution_count": 13,
   "id": "245e68d1-4856-4939-9ceb-a6e8cc06d581",
   "metadata": {},
   "outputs": [
    {
     "data": {
      "text/plain": [
       "array([[ 1,  2],\n",
       "       [ 3,  4],\n",
       "       [ 5,  6],\n",
       "       [ 7,  8],\n",
       "       [ 9, 10],\n",
       "       [11, 12]])"
      ]
     },
     "execution_count": 13,
     "metadata": {},
     "output_type": "execute_result"
    }
   ],
   "source": [
    "np.arange(1,13).reshape(6,2)      #the reshape should match the no of elements"
   ]
  },
  {
   "cell_type": "code",
   "execution_count": 16,
   "id": "3f194faa-5bea-41db-b746-e432484a8ec7",
   "metadata": {},
   "outputs": [
    {
     "data": {
      "text/plain": [
       "array([0, 1, 2, 3, 4, 5])"
      ]
     },
     "execution_count": 16,
     "metadata": {},
     "output_type": "execute_result"
    }
   ],
   "source": [
    "arr=np.arange(6)\n",
    "arr"
   ]
  },
  {
   "cell_type": "code",
   "execution_count": null,
   "id": "18322a00-ad2b-41ef-9015-cfdab053d06c",
   "metadata": {},
   "outputs": [],
   "source": []
  },
  {
   "cell_type": "markdown",
   "id": "6656fcf6-6aaa-4e6b-a24d-eed9c3154d8d",
   "metadata": {},
   "source": [
    " slicing in matrix()"
   ]
  },
  {
   "cell_type": "code",
   "execution_count": 16,
   "id": "01cdce32-69fd-467e-84a6-c0d359611575",
   "metadata": {},
   "outputs": [
    {
     "data": {
      "text/plain": [
       "array([[16, 19, 18, 18],\n",
       "       [10, 15, 13, 17],\n",
       "       [10, 15, 16, 16],\n",
       "       [16, 15, 10, 13],\n",
       "       [16, 19, 10, 12]], dtype=int32)"
      ]
     },
     "execution_count": 16,
     "metadata": {},
     "output_type": "execute_result"
    }
   ],
   "source": [
    "b=np.random.randint(10,20,(5,4))\n",
    "b"
   ]
  },
  {
   "cell_type": "code",
   "execution_count": 17,
   "id": "1d6dec83-bbc5-42b2-8890-c2015076a19e",
   "metadata": {},
   "outputs": [
    {
     "data": {
      "text/plain": [
       "array([[16, 19, 18, 18],\n",
       "       [10, 15, 13, 17],\n",
       "       [10, 15, 16, 16],\n",
       "       [16, 15, 10, 13],\n",
       "       [16, 19, 10, 12]], dtype=int32)"
      ]
     },
     "execution_count": 17,
     "metadata": {},
     "output_type": "execute_result"
    }
   ],
   "source": [
    "b[:]"
   ]
  },
  {
   "cell_type": "code",
   "execution_count": 21,
   "id": "5dee0df0-abe7-431f-bc5f-2327ad5dd196",
   "metadata": {},
   "outputs": [
    {
     "data": {
      "text/plain": [
       "array([[10, 15, 13, 17]], dtype=int32)"
      ]
     },
     "execution_count": 21,
     "metadata": {},
     "output_type": "execute_result"
    }
   ],
   "source": [
    "b[1:2]          #display few elements"
   ]
  },
  {
   "cell_type": "code",
   "execution_count": 22,
   "id": "e79cac3a-90bc-4437-b816-b02c6261514c",
   "metadata": {},
   "outputs": [
    {
     "data": {
      "text/plain": [
       "np.int32(13)"
      ]
     },
     "execution_count": 22,
     "metadata": {},
     "output_type": "execute_result"
    }
   ],
   "source": [
    "b[1,2]          #displays a specfic value"
   ]
  },
  {
   "cell_type": "code",
   "execution_count": 23,
   "id": "3d5c1747-bac9-4418-b53e-7081f707d795",
   "metadata": {},
   "outputs": [
    {
     "data": {
      "text/plain": [
       "np.int32(17)"
      ]
     },
     "execution_count": 23,
     "metadata": {},
     "output_type": "execute_result"
    }
   ],
   "source": [
    "b[1,-1]"
   ]
  },
  {
   "cell_type": "markdown",
   "id": "585fc2aa-c302-488a-8db8-4c8f7794ab92",
   "metadata": {},
   "source": [
    "operations\n"
   ]
  },
  {
   "cell_type": "code",
   "execution_count": 28,
   "id": "e758f72f-ef98-4f9c-8628-0abc862bd121",
   "metadata": {},
   "outputs": [
    {
     "data": {
      "text/plain": [
       "array([0, 1, 2, 3, 4, 5])"
      ]
     },
     "execution_count": 28,
     "metadata": {},
     "output_type": "execute_result"
    }
   ],
   "source": [
    "arr=np.arange(6)\n",
    "arr"
   ]
  },
  {
   "cell_type": "code",
   "execution_count": 30,
   "id": "4b55d054-b035-4be1-8f0e-18712f481e31",
   "metadata": {},
   "outputs": [
    {
     "data": {
      "text/plain": [
       "array([[84, 99, 64, 96, 41, 40, 83, 38,  1, 30],\n",
       "       [38, 68, 65, 85, 66, 75, 43, 23, 44, 40],\n",
       "       [20, 25, 82, 40, 44, 63, 89, 61, 95, 66],\n",
       "       [ 8,  4, 42, 26, 45, 38,  9, 71, 70, 70],\n",
       "       [ 1, 25, 95, 89, 68,  0, 48, 46, 85, 46],\n",
       "       [96, 60, 90, 99, 22, 96, 45, 88,  2, 87],\n",
       "       [88, 69,  7, 45, 17, 78, 14, 79, 10, 55],\n",
       "       [82, 97, 80, 77, 13, 59, 69, 12, 15, 93],\n",
       "       [11, 45, 26, 72, 59, 55, 15, 82, 28, 34],\n",
       "       [81, 11, 39, 84, 86, 84, 16, 70, 35, 37]], dtype=int32)"
      ]
     },
     "execution_count": 30,
     "metadata": {},
     "output_type": "execute_result"
    }
   ],
   "source": [
    "arr2=np.random.randint(0,100,(10,10))\n",
    "arr2"
   ]
  },
  {
   "cell_type": "code",
   "execution_count": 31,
   "id": "a74a94ac-fc7e-4685-baa8-045453fb7afe",
   "metadata": {},
   "outputs": [
    {
     "data": {
      "text/plain": [
       "array([[84, 99, 64, 96, 41, 40, 83, 38,  1, 30],\n",
       "       [38, 68, 65, 85, 66, 75, 43, 23, 44, 40],\n",
       "       [20, 25, 82, 40, 44, 63, 89, 61, 95, 66],\n",
       "       [ 8,  4, 42, 26, 45, 38,  9, 71, 70, 70],\n",
       "       [ 1, 25, 95, 89, 68,  0, 48, 46, 85, 46],\n",
       "       [96, 60, 90, 99, 22, 96, 45, 88,  2, 87],\n",
       "       [88, 69,  7, 45, 17, 78, 14, 79, 10, 55],\n",
       "       [82, 97, 80, 77, 13, 59, 69, 12, 15, 93],\n",
       "       [11, 45, 26, 72, 59, 55, 15, 82, 28, 34],\n",
       "       [81, 11, 39, 84, 86, 84, 16, 70, 35, 37]], dtype=int32)"
      ]
     },
     "execution_count": 31,
     "metadata": {},
     "output_type": "execute_result"
    }
   ],
   "source": [
    "arr2[:]"
   ]
  },
  {
   "cell_type": "code",
   "execution_count": 32,
   "id": "d1815e4c-b03b-4d46-97c7-7671f99e5c9f",
   "metadata": {},
   "outputs": [
    {
     "data": {
      "text/plain": [
       "array([[81, 11, 39, 84, 86, 84, 16, 70, 35, 37],\n",
       "       [11, 45, 26, 72, 59, 55, 15, 82, 28, 34],\n",
       "       [82, 97, 80, 77, 13, 59, 69, 12, 15, 93],\n",
       "       [88, 69,  7, 45, 17, 78, 14, 79, 10, 55],\n",
       "       [96, 60, 90, 99, 22, 96, 45, 88,  2, 87],\n",
       "       [ 1, 25, 95, 89, 68,  0, 48, 46, 85, 46],\n",
       "       [ 8,  4, 42, 26, 45, 38,  9, 71, 70, 70],\n",
       "       [20, 25, 82, 40, 44, 63, 89, 61, 95, 66],\n",
       "       [38, 68, 65, 85, 66, 75, 43, 23, 44, 40],\n",
       "       [84, 99, 64, 96, 41, 40, 83, 38,  1, 30]], dtype=int32)"
      ]
     },
     "execution_count": 32,
     "metadata": {},
     "output_type": "execute_result"
    }
   ],
   "source": [
    " arr2[::-1]           #prints the rows in reverse"
   ]
  },
  {
   "cell_type": "code",
   "execution_count": 35,
   "id": "fb8b5893-11c2-496c-92c8-83ed38b054b3",
   "metadata": {},
   "outputs": [
    {
     "data": {
      "text/plain": [
       "array([[84, 99, 64, 96, 41, 40, 83, 38,  1, 30],\n",
       "       [38, 68, 65, 85, 66, 75, 43, 23, 44, 40],\n",
       "       [20, 25, 82, 40, 44, 63, 89, 61, 95, 66],\n",
       "       [ 8,  4, 42, 26, 45, 38,  9, 71, 70, 70],\n",
       "       [ 1, 25, 95, 89, 68,  0, 48, 46, 85, 46],\n",
       "       [96, 60, 90, 99, 22, 96, 45, 88,  2, 87],\n",
       "       [88, 69,  7, 45, 17, 78, 14, 79, 10, 55],\n",
       "       [82, 97, 80, 77, 13, 59, 69, 12, 15, 93],\n",
       "       [11, 45, 26, 72, 59, 55, 15, 82, 28, 34],\n",
       "       [81, 11, 39, 84, 86, 84, 16, 70, 35, 37]], dtype=int32)"
      ]
     },
     "execution_count": 35,
     "metadata": {},
     "output_type": "execute_result"
    }
   ],
   "source": [
    "arr2"
   ]
  },
  {
   "cell_type": "code",
   "execution_count": 36,
   "id": "55d17519-bd7c-415f-96b0-eeef3e1e9c42",
   "metadata": {},
   "outputs": [
    {
     "data": {
      "text/plain": [
       "array([[81, 11, 39, 84, 86, 84, 16, 70, 35, 37],\n",
       "       [82, 97, 80, 77, 13, 59, 69, 12, 15, 93],\n",
       "       [96, 60, 90, 99, 22, 96, 45, 88,  2, 87],\n",
       "       [ 8,  4, 42, 26, 45, 38,  9, 71, 70, 70],\n",
       "       [38, 68, 65, 85, 66, 75, 43, 23, 44, 40]], dtype=int32)"
      ]
     },
     "execution_count": 36,
     "metadata": {},
     "output_type": "execute_result"
    }
   ],
   "source": [
    "arr2[::-2]"
   ]
  },
  {
   "cell_type": "code",
   "execution_count": 37,
   "id": "8fb0fadf-dbdf-47b4-a9f7-a566a5b741df",
   "metadata": {},
   "outputs": [
    {
     "data": {
      "text/plain": [
       "array([[81, 11, 39, 84, 86, 84, 16, 70, 35, 37],\n",
       "       [88, 69,  7, 45, 17, 78, 14, 79, 10, 55],\n",
       "       [ 8,  4, 42, 26, 45, 38,  9, 71, 70, 70],\n",
       "       [84, 99, 64, 96, 41, 40, 83, 38,  1, 30]], dtype=int32)"
      ]
     },
     "execution_count": 37,
     "metadata": {},
     "output_type": "execute_result"
    }
   ],
   "source": [
    "arr2[::-3]"
   ]
  },
  {
   "cell_type": "code",
   "execution_count": 38,
   "id": "53c48693-66c6-4888-a6d1-e87ac4fd8d61",
   "metadata": {},
   "outputs": [
    {
     "data": {
      "text/plain": [
       "np.int64(5)"
      ]
     },
     "execution_count": 38,
     "metadata": {},
     "output_type": "execute_result"
    }
   ],
   "source": [
    "arr.max()"
   ]
  },
  {
   "cell_type": "code",
   "execution_count": 39,
   "id": "c1f55d60-9227-4603-90c6-d8112d89c942",
   "metadata": {},
   "outputs": [
    {
     "data": {
      "text/plain": [
       "np.int64(0)"
      ]
     },
     "execution_count": 39,
     "metadata": {},
     "output_type": "execute_result"
    }
   ],
   "source": [
    "arr.min()"
   ]
  },
  {
   "cell_type": "code",
   "execution_count": 40,
   "id": "ffa5bc07-c507-4e75-8d61-b803c63dd295",
   "metadata": {},
   "outputs": [
    {
     "data": {
      "text/plain": [
       "np.float64(2.5)"
      ]
     },
     "execution_count": 40,
     "metadata": {},
     "output_type": "execute_result"
    }
   ],
   "source": [
    "arr.mean()"
   ]
  },
  {
   "cell_type": "code",
   "execution_count": 17,
   "id": "082ebe6a-b601-4a73-b0ed-abe243ceaa71",
   "metadata": {},
   "outputs": [],
   "source": [
    "mat = np.arange(0,100).reshape(10,10)"
   ]
  },
  {
   "cell_type": "code",
   "execution_count": 18,
   "id": "c9563744-41b3-4250-9d6a-33e27c1f35b1",
   "metadata": {},
   "outputs": [
    {
     "data": {
      "text/plain": [
       "array([[ 0,  1,  2,  3,  4,  5,  6,  7,  8,  9],\n",
       "       [10, 11, 12, 13, 14, 15, 16, 17, 18, 19],\n",
       "       [20, 21, 22, 23, 24, 25, 26, 27, 28, 29],\n",
       "       [30, 31, 32, 33, 34, 35, 36, 37, 38, 39],\n",
       "       [40, 41, 42, 43, 44, 45, 46, 47, 48, 49],\n",
       "       [50, 51, 52, 53, 54, 55, 56, 57, 58, 59],\n",
       "       [60, 61, 62, 63, 64, 65, 66, 67, 68, 69],\n",
       "       [70, 71, 72, 73, 74, 75, 76, 77, 78, 79],\n",
       "       [80, 81, 82, 83, 84, 85, 86, 87, 88, 89],\n",
       "       [90, 91, 92, 93, 94, 95, 96, 97, 98, 99]])"
      ]
     },
     "execution_count": 18,
     "metadata": {},
     "output_type": "execute_result"
    }
   ],
   "source": [
    "mat"
   ]
  },
  {
   "cell_type": "code",
   "execution_count": 19,
   "id": "7a2c6e6a-f76f-43f8-87d2-b6b34a0023ec",
   "metadata": {},
   "outputs": [],
   "source": [
    "row=4\n",
    "col=5"
   ]
  },
  {
   "cell_type": "code",
   "execution_count": 20,
   "id": "f93865a4-2415-48ca-932d-29953320099b",
   "metadata": {},
   "outputs": [
    {
     "data": {
      "text/plain": [
       "4"
      ]
     },
     "execution_count": 20,
     "metadata": {},
     "output_type": "execute_result"
    }
   ],
   "source": [
    "row"
   ]
  },
  {
   "cell_type": "code",
   "execution_count": 21,
   "id": "3bbbf0cd-36e2-49ef-9207-80a5f6c0bde4",
   "metadata": {},
   "outputs": [
    {
     "data": {
      "text/plain": [
       "5"
      ]
     },
     "execution_count": 21,
     "metadata": {},
     "output_type": "execute_result"
    }
   ],
   "source": [
    "col"
   ]
  },
  {
   "cell_type": "code",
   "execution_count": 22,
   "id": "3ec6c960-8e65-4dff-8915-30089db93e99",
   "metadata": {},
   "outputs": [
    {
     "data": {
      "text/plain": [
       "np.int64(45)"
      ]
     },
     "execution_count": 22,
     "metadata": {},
     "output_type": "execute_result"
    }
   ],
   "source": [
    "mat[row,col]"
   ]
  },
  {
   "cell_type": "code",
   "execution_count": 23,
   "id": "fff74323-be25-4b31-9fba-2a9371b99a7e",
   "metadata": {},
   "outputs": [
    {
     "data": {
      "text/plain": [
       "array([60, 61, 62, 63, 64, 65, 66, 67, 68, 69])"
      ]
     },
     "execution_count": 23,
     "metadata": {},
     "output_type": "execute_result"
    }
   ],
   "source": [
    "mat[6]    #by default it prints the rows"
   ]
  },
  {
   "cell_type": "code",
   "execution_count": 24,
   "id": "bbedc10b-2800-43cc-a133-89e96ff01a8e",
   "metadata": {},
   "outputs": [
    {
     "data": {
      "text/plain": [
       "array([ 5, 15, 25, 35, 45, 55, 65, 75, 85, 95])"
      ]
     },
     "execution_count": 24,
     "metadata": {},
     "output_type": "execute_result"
    }
   ],
   "source": [
    "mat[:,col]   "
   ]
  },
  {
   "cell_type": "code",
   "execution_count": 25,
   "id": "924ccdd9-c7ec-458e-8fa6-39817472e7dd",
   "metadata": {},
   "outputs": [
    {
     "data": {
      "text/plain": [
       "array([[22, 23],\n",
       "       [32, 33],\n",
       "       [42, 43],\n",
       "       [52, 53]])"
      ]
     },
     "execution_count": 25,
     "metadata": {},
     "output_type": "execute_result"
    }
   ],
   "source": [
    "mat[2:6,2:4]"
   ]
  },
  {
   "cell_type": "code",
   "execution_count": null,
   "id": "62d5e0b0-3a0c-4c9f-81f2-8bed70b0e8f5",
   "metadata": {},
   "outputs": [],
   "source": []
  }
 ],
 "metadata": {
  "kernelspec": {
   "display_name": "Python 3 (ipykernel)",
   "language": "python",
   "name": "python3"
  },
  "language_info": {
   "codemirror_mode": {
    "name": "ipython",
    "version": 3
   },
   "file_extension": ".py",
   "mimetype": "text/x-python",
   "name": "python",
   "nbconvert_exporter": "python",
   "pygments_lexer": "ipython3",
   "version": "3.13.5"
  }
 },
 "nbformat": 4,
 "nbformat_minor": 5
}
